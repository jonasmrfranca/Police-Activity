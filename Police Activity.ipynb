{
 "cells": [
  {
   "cell_type": "markdown",
   "metadata": {},
   "source": [
    "# Police Activity in New Orleans"
   ]
  },
  {
   "cell_type": "code",
   "execution_count": 1,
   "metadata": {},
   "outputs": [],
   "source": [
    "# Exploring the Stanford Open Policing Project dataset and analyze the impact of gender on police behavior using Pandas.\n",
    "# Dataset from: https://openpolicing.stanford.edu/data/\n",
    "# Analysis based on DataCamp course\n",
    "# City Analyzed: New Orleans"
   ]
  },
  {
   "cell_type": "code",
   "execution_count": 4,
   "metadata": {},
   "outputs": [],
   "source": [
    "# PACKAGE IMPORT\n",
    "import pandas as pd\n",
    "import matplotlib.pyplot as plt"
   ]
  },
  {
   "cell_type": "code",
   "execution_count": 5,
   "metadata": {},
   "outputs": [
    {
     "name": "stderr",
     "output_type": "stream",
     "text": [
      "/Library/Frameworks/Python.framework/Versions/3.9/lib/python3.9/site-packages/IPython/core/interactiveshell.py:3146: DtypeWarning: Columns (6) have mixed types.Specify dtype option on import or set low_memory=False.\n",
      "  has_raised = await self.run_ast_nodes(code_ast.body, cell_name,\n"
     ]
    }
   ],
   "source": [
    "# READ DATASET\n",
    "dataset = pd.read_csv('la_new_orleans_2020_04_01.csv')"
   ]
  },
  {
   "cell_type": "code",
   "execution_count": 9,
   "metadata": {},
   "outputs": [
    {
     "data": {
      "text/html": [
       "<div>\n",
       "<style scoped>\n",
       "    .dataframe tbody tr th:only-of-type {\n",
       "        vertical-align: middle;\n",
       "    }\n",
       "\n",
       "    .dataframe tbody tr th {\n",
       "        vertical-align: top;\n",
       "    }\n",
       "\n",
       "    .dataframe thead th {\n",
       "        text-align: right;\n",
       "    }\n",
       "</style>\n",
       "<table border=\"1\" class=\"dataframe\">\n",
       "  <thead>\n",
       "    <tr style=\"text-align: right;\">\n",
       "      <th></th>\n",
       "      <th>raw_row_number</th>\n",
       "      <th>date</th>\n",
       "      <th>time</th>\n",
       "      <th>location</th>\n",
       "      <th>lat</th>\n",
       "      <th>lng</th>\n",
       "      <th>district</th>\n",
       "      <th>zone</th>\n",
       "      <th>subject_age</th>\n",
       "      <th>subject_race</th>\n",
       "      <th>...</th>\n",
       "      <th>search_person</th>\n",
       "      <th>search_vehicle</th>\n",
       "      <th>search_basis</th>\n",
       "      <th>reason_for_stop</th>\n",
       "      <th>vehicle_color</th>\n",
       "      <th>vehicle_make</th>\n",
       "      <th>vehicle_model</th>\n",
       "      <th>vehicle_year</th>\n",
       "      <th>raw_actions_taken</th>\n",
       "      <th>raw_subject_race</th>\n",
       "    </tr>\n",
       "  </thead>\n",
       "  <tbody>\n",
       "    <tr>\n",
       "      <th>0</th>\n",
       "      <td>1</td>\n",
       "      <td>2010-01-01</td>\n",
       "      <td>01:11:00</td>\n",
       "      <td>NaN</td>\n",
       "      <td>NaN</td>\n",
       "      <td>NaN</td>\n",
       "      <td>6</td>\n",
       "      <td>E</td>\n",
       "      <td>26.0</td>\n",
       "      <td>black</td>\n",
       "      <td>...</td>\n",
       "      <td>False</td>\n",
       "      <td>False</td>\n",
       "      <td>NaN</td>\n",
       "      <td>TRAFFIC VIOLATION</td>\n",
       "      <td>BLACK</td>\n",
       "      <td>DODGE</td>\n",
       "      <td>CARAVAN</td>\n",
       "      <td>2005.0</td>\n",
       "      <td>NaN</td>\n",
       "      <td>BLACK</td>\n",
       "    </tr>\n",
       "    <tr>\n",
       "      <th>1</th>\n",
       "      <td>9087</td>\n",
       "      <td>2010-01-01</td>\n",
       "      <td>01:29:00</td>\n",
       "      <td>NaN</td>\n",
       "      <td>NaN</td>\n",
       "      <td>NaN</td>\n",
       "      <td>7</td>\n",
       "      <td>C</td>\n",
       "      <td>37.0</td>\n",
       "      <td>black</td>\n",
       "      <td>...</td>\n",
       "      <td>False</td>\n",
       "      <td>False</td>\n",
       "      <td>NaN</td>\n",
       "      <td>TRAFFIC VIOLATION</td>\n",
       "      <td>BLUE</td>\n",
       "      <td>NISSAN</td>\n",
       "      <td>MURANO</td>\n",
       "      <td>2005.0</td>\n",
       "      <td>NaN</td>\n",
       "      <td>BLACK</td>\n",
       "    </tr>\n",
       "    <tr>\n",
       "      <th>2</th>\n",
       "      <td>9086</td>\n",
       "      <td>2010-01-01</td>\n",
       "      <td>01:29:00</td>\n",
       "      <td>NaN</td>\n",
       "      <td>NaN</td>\n",
       "      <td>NaN</td>\n",
       "      <td>7</td>\n",
       "      <td>C</td>\n",
       "      <td>37.0</td>\n",
       "      <td>black</td>\n",
       "      <td>...</td>\n",
       "      <td>False</td>\n",
       "      <td>False</td>\n",
       "      <td>NaN</td>\n",
       "      <td>TRAFFIC VIOLATION</td>\n",
       "      <td>BLUE</td>\n",
       "      <td>NISSAN</td>\n",
       "      <td>MURANO</td>\n",
       "      <td>2005.0</td>\n",
       "      <td>NaN</td>\n",
       "      <td>BLACK</td>\n",
       "    </tr>\n",
       "    <tr>\n",
       "      <th>3</th>\n",
       "      <td>267</td>\n",
       "      <td>2010-01-01</td>\n",
       "      <td>14:00:00</td>\n",
       "      <td>NaN</td>\n",
       "      <td>NaN</td>\n",
       "      <td>NaN</td>\n",
       "      <td>7</td>\n",
       "      <td>I</td>\n",
       "      <td>96.0</td>\n",
       "      <td>black</td>\n",
       "      <td>...</td>\n",
       "      <td>False</td>\n",
       "      <td>False</td>\n",
       "      <td>NaN</td>\n",
       "      <td>TRAFFIC VIOLATION</td>\n",
       "      <td>GRAY</td>\n",
       "      <td>JEEP</td>\n",
       "      <td>GRAND CHEROKEE</td>\n",
       "      <td>2003.0</td>\n",
       "      <td>NaN</td>\n",
       "      <td>BLACK</td>\n",
       "    </tr>\n",
       "    <tr>\n",
       "      <th>4</th>\n",
       "      <td>2</td>\n",
       "      <td>2010-01-01</td>\n",
       "      <td>02:06:00</td>\n",
       "      <td>NaN</td>\n",
       "      <td>NaN</td>\n",
       "      <td>NaN</td>\n",
       "      <td>5</td>\n",
       "      <td>D</td>\n",
       "      <td>17.0</td>\n",
       "      <td>black</td>\n",
       "      <td>...</td>\n",
       "      <td>False</td>\n",
       "      <td>False</td>\n",
       "      <td>NaN</td>\n",
       "      <td>CALL FOR SERVICE</td>\n",
       "      <td>NaN</td>\n",
       "      <td>NaN</td>\n",
       "      <td>NaN</td>\n",
       "      <td>NaN</td>\n",
       "      <td>NaN</td>\n",
       "      <td>BLACK</td>\n",
       "    </tr>\n",
       "  </tbody>\n",
       "</table>\n",
       "<p>5 rows × 32 columns</p>\n",
       "</div>"
      ],
      "text/plain": [
       "  raw_row_number        date      time location  lat  lng district zone  \\\n",
       "0              1  2010-01-01  01:11:00      NaN  NaN  NaN        6    E   \n",
       "1           9087  2010-01-01  01:29:00      NaN  NaN  NaN        7    C   \n",
       "2           9086  2010-01-01  01:29:00      NaN  NaN  NaN        7    C   \n",
       "3            267  2010-01-01  14:00:00      NaN  NaN  NaN        7    I   \n",
       "4              2  2010-01-01  02:06:00      NaN  NaN  NaN        5    D   \n",
       "\n",
       "   subject_age subject_race  ... search_person search_vehicle search_basis  \\\n",
       "0         26.0        black  ...         False          False          NaN   \n",
       "1         37.0        black  ...         False          False          NaN   \n",
       "2         37.0        black  ...         False          False          NaN   \n",
       "3         96.0        black  ...         False          False          NaN   \n",
       "4         17.0        black  ...         False          False          NaN   \n",
       "\n",
       "     reason_for_stop  vehicle_color  vehicle_make   vehicle_model  \\\n",
       "0  TRAFFIC VIOLATION          BLACK         DODGE         CARAVAN   \n",
       "1  TRAFFIC VIOLATION           BLUE        NISSAN          MURANO   \n",
       "2  TRAFFIC VIOLATION           BLUE        NISSAN          MURANO   \n",
       "3  TRAFFIC VIOLATION           GRAY          JEEP  GRAND CHEROKEE   \n",
       "4   CALL FOR SERVICE            NaN           NaN             NaN   \n",
       "\n",
       "  vehicle_year raw_actions_taken raw_subject_race  \n",
       "0       2005.0               NaN            BLACK  \n",
       "1       2005.0               NaN            BLACK  \n",
       "2       2005.0               NaN            BLACK  \n",
       "3       2003.0               NaN            BLACK  \n",
       "4          NaN               NaN            BLACK  \n",
       "\n",
       "[5 rows x 32 columns]"
      ]
     },
     "metadata": {},
     "output_type": "display_data"
    },
    {
     "data": {
      "text/plain": [
       "raw_row_number             0\n",
       "date                       4\n",
       "time                       0\n",
       "location               95986\n",
       "lat                   251684\n",
       "lng                   251684\n",
       "district                   0\n",
       "zone                       0\n",
       "subject_age            12786\n",
       "subject_race           11730\n",
       "subject_sex            11730\n",
       "officer_assignment       123\n",
       "type                  149907\n",
       "arrest_made                0\n",
       "citation_issued            0\n",
       "warning_issued             0\n",
       "outcome               176487\n",
       "contraband_found      436301\n",
       "contraband_drugs      436301\n",
       "contraband_weapons    436301\n",
       "frisk_performed            0\n",
       "search_conducted           0\n",
       "search_person              0\n",
       "search_vehicle             0\n",
       "search_basis          436301\n",
       "reason_for_stop            0\n",
       "vehicle_color         239138\n",
       "vehicle_make          235765\n",
       "vehicle_model         252982\n",
       "vehicle_year          240388\n",
       "raw_actions_taken     122455\n",
       "raw_subject_race       11730\n",
       "dtype: int64"
      ]
     },
     "metadata": {},
     "output_type": "display_data"
    },
    {
     "data": {
      "text/plain": [
       "(512092, 32)"
      ]
     },
     "execution_count": 9,
     "metadata": {},
     "output_type": "execute_result"
    }
   ],
   "source": [
    "# DATAFRAME INSPECTION\n",
    "display(dataset.head())\n",
    "# COUNTING THE NUMBER OF MISSING VALUES\n",
    "display(dataset.isnull().sum())\n",
    "# EXAMINING THE SHAPE OF THE DATAFRAME\n",
    "dataset.shape"
   ]
  },
  {
   "cell_type": "code",
   "execution_count": 10,
   "metadata": {},
   "outputs": [
    {
     "data": {
      "text/plain": [
       "date                     4\n",
       "time                     0\n",
       "location             95986\n",
       "subject_race         11730\n",
       "subject_sex          11730\n",
       "arrest_made              0\n",
       "outcome             176487\n",
       "frisk_performed          0\n",
       "search_conducted         0\n",
       "reason_for_stop          0\n",
       "contraband_drugs    436301\n",
       "dtype: int64"
      ]
     },
     "metadata": {},
     "output_type": "display_data"
    }
   ],
   "source": [
    "# SELECT RELEVANT COLUMNS\n",
    "columns = ['date','time','location','subject_race','subject_sex','arrest_made', 'outcome',\n",
    "           'frisk_performed', 'search_conducted', 'reason_for_stop',\n",
    "           'contraband_drugs']\n",
    "\n",
    "# DATAFRAME COLUMNS UPDATE\n",
    "dataset = dataset[columns]\n",
    "\n",
    "# CHECK THE MISSING VALUES AGAIN\n",
    "display(dataset.isnull().sum())"
   ]
  },
  {
   "cell_type": "code",
   "execution_count": 11,
   "metadata": {},
   "outputs": [],
   "source": [
    "# DROP ALL ROWS THAT ARE MISSING SUBJECT_SEX\n",
    "dataset.dropna(subset=['subject_sex'], inplace=True)\n",
    "# FILL MISSING VALUES WITH FALSE\n",
    "dataset.contraband_drugs.fillna(False, inplace=True)\n",
    "\n",
    "# CONCATENATE A STOP DATE AND TIME\n",
    "combined = dataset.date.str.cat(dataset.time, sep=' ')\n",
    "dataset['stop_datetime'] = pd.to_datetime(combined)\n",
    "\n",
    "\n",
    "# CHANGE THE DATA TYPE TO CORRECT ONES\n",
    "dataset['arrest_made'] = dataset.arrest_made.astype('bool')\n",
    "dataset['frisk_performed'] = dataset.frisk_performed.astype('bool')\n",
    "dataset['contraband_drugs'] = dataset.contraband_drugs.astype('bool')\n",
    "\n",
    "# SET STOP_DATETIME AS THE DATAFRAME INDEX\n",
    "dataset.set_index('stop_datetime', inplace=True)"
   ]
  },
  {
   "cell_type": "code",
   "execution_count": 14,
   "metadata": {},
   "outputs": [
    {
     "name": "stdout",
     "output_type": "stream",
     "text": [
      "TRAFFIC VIOLATION         0.565281\n",
      "CALL FOR SERVICE          0.140103\n",
      "SUSPECT PERSON            0.126928\n",
      "CRIMINAL VIOLATION        0.059965\n",
      "OTHER                     0.048377\n",
      "CITIZEN CONTACT           0.031593\n",
      "SUSPECT VEHICLE           0.011090\n",
      "FLAGGED DOWN              0.008870\n",
      "JUVENILE VIOLATION        0.006219\n",
      "PRESENT AT CRIME SCENE    0.001575\n",
      "Name: reason_for_stop, dtype: float64\n"
     ]
    }
   ],
   "source": [
    "# COMPARING THE VIOLATIONS BY GENDER\n",
    "# COUNT THE UNIQUE VALUES IN VIOLATION\n",
    "print(dataset.reason_for_stop.value_counts(normalize=True))"
   ]
  },
  {
   "cell_type": "code",
   "execution_count": 15,
   "metadata": {},
   "outputs": [
    {
     "name": "stdout",
     "output_type": "stream",
     "text": [
      "TRAFFIC VIOLATION         0.657800\n",
      "CALL FOR SERVICE          0.149886\n",
      "SUSPECT PERSON            0.063194\n",
      "CRIMINAL VIOLATION        0.040915\n",
      "OTHER                     0.040552\n",
      "CITIZEN CONTACT           0.024860\n",
      "SUSPECT VEHICLE           0.008996\n",
      "FLAGGED DOWN              0.006641\n",
      "JUVENILE VIOLATION        0.005799\n",
      "PRESENT AT CRIME SCENE    0.001356\n",
      "Name: reason_for_stop, dtype: float64\n",
      "TRAFFIC VIOLATION         0.527141\n",
      "SUSPECT PERSON            0.153202\n",
      "CALL FOR SERVICE          0.136070\n",
      "CRIMINAL VIOLATION        0.067817\n",
      "OTHER                     0.051603\n",
      "CITIZEN CONTACT           0.034369\n",
      "SUSPECT VEHICLE           0.011953\n",
      "FLAGGED DOWN              0.009788\n",
      "JUVENILE VIOLATION        0.006393\n",
      "PRESENT AT CRIME SCENE    0.001665\n",
      "Name: reason_for_stop, dtype: float64\n"
     ]
    }
   ],
   "source": [
    "# CREATE DATASETS BY GENDER\n",
    "female = dataset[dataset.subject_sex == 'female']\n",
    "male = dataset[dataset.subject_sex == 'male']\n",
    "# PRINT THE RESULTS\n",
    "print(female.reason_for_stop.value_counts(normalize=True))\n",
    "print(male.reason_for_stop.value_counts(normalize=True))"
   ]
  },
  {
   "cell_type": "code",
   "execution_count": 16,
   "metadata": {},
   "outputs": [
    {
     "name": "stdout",
     "output_type": "stream",
     "text": [
      "warning     0.391197\n",
      "citation    0.383717\n",
      "arrest      0.225086\n",
      "Name: outcome, dtype: float64\n",
      "warning     0.359814\n",
      "citation    0.332711\n",
      "arrest      0.307475\n",
      "Name: outcome, dtype: float64\n"
     ]
    }
   ],
   "source": [
    "# DOES GENDER AFFECT WHO GETS A TICKET FOR SPEEDING?\n",
    "female_and_speeding = dataset[(dataset.subject_sex == 'female') & (dataset.reason_for_stop == 'Speeding')]\n",
    "male_and_speeding = dataset[(dataset.subject_sex == 'male') & (dataset.reason_for_stop == 'Speeding')]\n",
    "# PRINT THE RESULTS\n",
    "print(female.outcome.value_counts(normalize=True))\n",
    "print(male.outcome.value_counts(normalize=True))"
   ]
  },
  {
   "cell_type": "code",
   "execution_count": 19,
   "metadata": {},
   "outputs": [
    {
     "name": "stdout",
     "output_type": "stream",
     "text": [
      "False    0.849457\n",
      "True     0.150543\n",
      "Name: search_conducted, dtype: float64\n",
      "0.15054300686303115\n",
      "0.09020389160470497\n",
      "subject_sex  reason_for_stop       \n",
      "female       CALL FOR SERVICE          0.174904\n",
      "             CITIZEN CONTACT           0.055907\n",
      "             CRIMINAL VIOLATION        0.271419\n",
      "             FLAGGED DOWN              0.180412\n",
      "             JUVENILE VIOLATION        0.064935\n",
      "             OTHER                     0.121222\n",
      "             PRESENT AT CRIME SCENE    0.262626\n",
      "             SUSPECT PERSON            0.146046\n",
      "             SUSPECT VEHICLE           0.121005\n",
      "             TRAFFIC VIOLATION         0.052187\n",
      "male         CALL FOR SERVICE          0.300643\n",
      "             CITIZEN CONTACT           0.123347\n",
      "             CRIMINAL VIOLATION        0.372607\n",
      "             FLAGGED DOWN              0.268166\n",
      "             JUVENILE VIOLATION        0.169536\n",
      "             OTHER                     0.164415\n",
      "             PRESENT AT CRIME SCENE    0.323729\n",
      "             SUSPECT PERSON            0.199595\n",
      "             SUSPECT VEHICLE           0.199292\n",
      "             TRAFFIC VIOLATION         0.112509\n",
      "Name: search_conducted, dtype: float64\n"
     ]
    }
   ],
   "source": [
    "# DOES GENDER AFFECT WHOSE VEHICLE IS SEARCHED?\n",
    "# CALCULATE THE SEARCH RATE BY COUNTING THE VALUES\n",
    "print(dataset.search_conducted.value_counts(normalize=True))\n",
    "# CALCULATE THE SEARCH RATE BY TAKING THE MEAN\n",
    "print(dataset.search_conducted.mean())\n",
    "# CALCULATE THE SEARCH RATE FOR FEMALE DRIVERS\n",
    "print(dataset[dataset.subject_sex == 'female'].search_conducted.mean())\n",
    "# CALCULATE THE SEARCH RATE FOR EACH COMBINATION OF GENDER AND VIOLATION\n",
    "print(dataset.groupby(['subject_sex', 'reason_for_stop']).search_conducted.mean())"
   ]
  },
  {
   "cell_type": "code",
   "execution_count": 20,
   "metadata": {},
   "outputs": [
    {
     "name": "stdout",
     "output_type": "stream",
     "text": [
      "0.7464885962350317\n",
      "subject_sex\n",
      "female    0.698216\n",
      "male      0.756722\n",
      "Name: frisk_performed, dtype: float64\n"
     ]
    }
   ],
   "source": [
    "# DOES GENDER AFFECT WHO IS FRISKED DURING A SEARCH?\n",
    "# TAKE THE SUM OF FRISK\n",
    "dataset.frisk_performed.sum()\n",
    "\n",
    "# CREATE A DATAFRAME OF STOPS IN WHICH A SEARCH WAS CONDUCTED\n",
    "searched = dataset[dataset.search_conducted == True]\n",
    "# CALCULATE THE OVERAL FRISK RATE BY TAKING THE MEAN OF FRISK\n",
    "print(searched.frisk_performed.mean())\n",
    "# CALCULATE THE FRISK RATE FOR EACH GENDER\n",
    "print(searched.groupby('subject_sex').frisk_performed.mean())"
   ]
  },
  {
   "cell_type": "code",
   "execution_count": 22,
   "metadata": {},
   "outputs": [
    {
     "name": "stdout",
     "output_type": "stream",
     "text": [
      "0.18712252329313578\n",
      "stop_datetime\n",
      "0.0     0.194071\n",
      "1.0     0.201496\n",
      "2.0     0.217244\n",
      "3.0     0.224769\n",
      "4.0     0.211595\n",
      "5.0     0.228263\n",
      "6.0     0.244163\n",
      "7.0     0.131304\n",
      "8.0     0.120049\n",
      "9.0     0.152427\n",
      "10.0    0.166873\n",
      "11.0    0.169304\n",
      "12.0    0.182095\n",
      "13.0    0.197237\n",
      "14.0    0.224503\n",
      "15.0    0.172028\n",
      "16.0    0.156956\n",
      "17.0    0.166047\n",
      "18.0    0.176540\n",
      "19.0    0.180522\n",
      "20.0    0.190243\n",
      "21.0    0.198172\n",
      "22.0    0.225801\n",
      "23.0    0.209784\n",
      "Name: arrest_made, dtype: float64\n"
     ]
    }
   ],
   "source": [
    "# DOES TIME OF DAY AFFECT ARREST RATE?\n",
    "# CALCULATE OVERAL ARREST RATE\n",
    "print(dataset.arrest_made.mean())\n",
    "# CALCULATE HOURLY ARREST RATE\n",
    "print(dataset.groupby(dataset.index.hour).arrest_made.mean())\n",
    "# SAVE THE RESULT HOURLY ARREST RATE\n",
    "hourly_arrest_rate = dataset.groupby(dataset.index.hour).arrest_made.mean()"
   ]
  },
  {
   "cell_type": "code",
   "execution_count": 23,
   "metadata": {},
   "outputs": [
    {
     "data": {
      "image/png": "[encoded data removed]",
      "text/plain": [
       "<Figure size 432x288 with 1 Axes>"
      ]
     },
     "metadata": {
      "needs_background": "light"
     },
     "output_type": "display_data"
    }
   ],
   "source": [
    "\n",
    "# CREATE A LINE PLOT OF HOURLY ARREST RATE\n",
    "hourly_arrest_rate.plot()\n",
    "# ADD THE XLABEL, YLABEL, AND TITLE\n",
    "plt.xlabel('Hour')\n",
    "plt.ylabel('Arrest Rate')\n",
    "plt.title('Arrest Rate by Time of Day')\n",
    "# DISPLAY THE PLOT\n",
    "plt.show()"
   ]
  },
  {
   "cell_type": "code",
   "execution_count": 25,
   "metadata": {},
   "outputs": [
    {
     "name": "stdout",
     "output_type": "stream",
     "text": [
      "stop_datetime\n",
      "2010-12-31    0.000016\n",
      "2011-12-31    0.007878\n",
      "2012-12-31    0.017566\n",
      "2013-12-31    0.028744\n",
      "2014-12-31    0.018627\n",
      "2015-12-31    0.017147\n",
      "2016-12-31    0.023679\n",
      "2017-12-31    0.037121\n",
      "2018-12-31    0.043027\n",
      "Name: contraband_drugs, dtype: float64\n"
     ]
    },
    {
     "data": {
      "image/png": "[encoded data removed]",
      "text/plain": [
       "<Figure size 432x288 with 1 Axes>"
      ]
     },
     "metadata": {
      "needs_background": "light"
     },
     "output_type": "display_data"
    }
   ],
   "source": [
    "# ARE DRUG-RELATED STOPS ON THE RISE?\n",
    "# CALCULATE THE ANNUAL RATE OF DRUG-RELATED STOPS\n",
    "print(dataset.contraband_drugs.resample('A').mean())\n",
    "# SAVE THE ANNUAL RATE OF DRUG-RELATED STOPS\n",
    "annual_drug_rate = dataset.contraband_drugs.resample('A').mean()\n",
    "# CREATE A LINE PLOT OF ANNUAL DRUG RATE\n",
    "annual_drug_rate.plot()\n",
    "# DISPLAY THE PLOT\n",
    "plt.show()"
   ]
  },
  {
   "cell_type": "code",
   "execution_count": 26,
   "metadata": {},
   "outputs": [
    {
     "data": {
      "image/png": "[encoded data removed]",
      "text/plain": [
       "<Figure size 432x288 with 2 Axes>"
      ]
     },
     "metadata": {
      "needs_background": "light"
     },
     "output_type": "display_data"
    }
   ],
   "source": [
    "# DOES THE DRUG RATE INCREASES BECAUSE OF THE SEARCH INCREASING?\n",
    "# CALCULATE AND SAVE THE ANNUAL SEARCH RATE\n",
    "annual_search_rate = dataset.search_conducted.resample('A').mean()\n",
    "# CONCATENATE ANNUAL_DRUG_RATE AND ANNUAL SEARCH RATE\n",
    "annual = pd.concat([annual_drug_rate, annual_search_rate], axis='columns')\n",
    "# CREATE SUBPLOTS FROM ANNUAL\n",
    "annual.plot(subplots=True)\n",
    "# DISPLAY THE SUBPLOTS\n",
    "plt.show()"
   ]
  },
  {
   "cell_type": "code",
   "execution_count": 27,
   "metadata": {},
   "outputs": [
    {
     "data": {
      "text/html": [
       "<div>\n",
       "<style scoped>\n",
       "    .dataframe tbody tr th:only-of-type {\n",
       "        vertical-align: middle;\n",
       "    }\n",
       "\n",
       "    .dataframe tbody tr th {\n",
       "        vertical-align: top;\n",
       "    }\n",
       "\n",
       "    .dataframe thead th {\n",
       "        text-align: right;\n",
       "    }\n",
       "</style>\n",
       "<table border=\"1\" class=\"dataframe\">\n",
       "  <thead>\n",
       "    <tr style=\"text-align: right;\">\n",
       "      <th>reason_for_stop</th>\n",
       "      <th>CALL FOR SERVICE</th>\n",
       "      <th>CITIZEN CONTACT</th>\n",
       "      <th>CRIMINAL VIOLATION</th>\n",
       "      <th>FLAGGED DOWN</th>\n",
       "      <th>JUVENILE VIOLATION</th>\n",
       "      <th>OTHER</th>\n",
       "      <th>PRESENT AT CRIME SCENE</th>\n",
       "      <th>SUSPECT PERSON</th>\n",
       "      <th>SUSPECT VEHICLE</th>\n",
       "      <th>TRAFFIC VIOLATION</th>\n",
       "    </tr>\n",
       "    <tr>\n",
       "      <th>subject_sex</th>\n",
       "      <th></th>\n",
       "      <th></th>\n",
       "      <th></th>\n",
       "      <th></th>\n",
       "      <th></th>\n",
       "      <th></th>\n",
       "      <th></th>\n",
       "      <th></th>\n",
       "      <th></th>\n",
       "      <th></th>\n",
       "    </tr>\n",
       "  </thead>\n",
       "  <tbody>\n",
       "    <tr>\n",
       "      <th>female</th>\n",
       "      <td>21892</td>\n",
       "      <td>3631</td>\n",
       "      <td>5976</td>\n",
       "      <td>970</td>\n",
       "      <td>847</td>\n",
       "      <td>5923</td>\n",
       "      <td>198</td>\n",
       "      <td>9230</td>\n",
       "      <td>1314</td>\n",
       "      <td>96077</td>\n",
       "    </tr>\n",
       "    <tr>\n",
       "      <th>male</th>\n",
       "      <td>48210</td>\n",
       "      <td>12177</td>\n",
       "      <td>24028</td>\n",
       "      <td>3468</td>\n",
       "      <td>2265</td>\n",
       "      <td>18283</td>\n",
       "      <td>590</td>\n",
       "      <td>54280</td>\n",
       "      <td>4235</td>\n",
       "      <td>186768</td>\n",
       "    </tr>\n",
       "  </tbody>\n",
       "</table>\n",
       "</div>"
      ],
      "text/plain": [
       "reason_for_stop  CALL FOR SERVICE  CITIZEN CONTACT  CRIMINAL VIOLATION  \\\n",
       "subject_sex                                                              \n",
       "female                      21892             3631                5976   \n",
       "male                        48210            12177               24028   \n",
       "\n",
       "reason_for_stop  FLAGGED DOWN  JUVENILE VIOLATION  OTHER  \\\n",
       "subject_sex                                                \n",
       "female                    970                 847   5923   \n",
       "male                     3468                2265  18283   \n",
       "\n",
       "reason_for_stop  PRESENT AT CRIME SCENE  SUSPECT PERSON  SUSPECT VEHICLE  \\\n",
       "subject_sex                                                                \n",
       "female                              198            9230             1314   \n",
       "male                                590           54280             4235   \n",
       "\n",
       "reason_for_stop  TRAFFIC VIOLATION  \n",
       "subject_sex                         \n",
       "female                       96077  \n",
       "male                        186768  "
      ]
     },
     "metadata": {},
     "output_type": "display_data"
    }
   ],
   "source": [
    "# WHAT VIOLATIONS ARE CAUGHT BY GENDER?\n",
    "# CREATE A FREQUENCY TABLE OF GENDER AND VIOLATIONS\n",
    "display(pd.crosstab(dataset.subject_sex, dataset.reason_for_stop))"
   ]
  },
  {
   "cell_type": "code",
   "execution_count": 28,
   "metadata": {},
   "outputs": [
    {
     "data": {
      "text/plain": [
       "[]"
      ]
     },
     "execution_count": 28,
     "metadata": {},
     "output_type": "execute_result"
    },
    {
     "data": {
      "image/png": "[encoded data removed]",
      "text/plain": [
       "<Figure size 432x288 with 1 Axes>"
      ]
     },
     "metadata": {
      "needs_background": "light"
     },
     "output_type": "display_data"
    }
   ],
   "source": [
    "# SAVE THE FREQUENCY TABLE AS VIOLATION BY GENDER\n",
    "violation_by_gender = pd.crosstab(dataset.reason_for_stop, dataset.subject_sex)\n",
    "# CREATE A BAR PLOT OF VIOLATION BY GENDER\n",
    "violation_by_gender.plot(kind='barh')\n",
    "plt.xlabel('Amount')\n",
    "plt.ylabel('Reason for Stop')\n",
    "plt.title('Violation Rate by Gender')\n",
    "# DISPLAY THE PLOT\n",
    "plt.plot()"
   ]
  },
  {
   "cell_type": "code",
   "execution_count": null,
   "metadata": {},
   "outputs": [],
   "source": []
  }
 ],
 "metadata": {
  "kernelspec": {
   "display_name": "Python 3",
   "language": "python",
   "name": "python3"
  },
  "language_info": {
   "codemirror_mode": {
    "name": "ipython",
    "version": 3
   },
   "file_extension": ".py",
   "mimetype": "text/x-python",
   "name": "python",
   "nbconvert_exporter": "python",
   "pygments_lexer": "ipython3",
   "version": "3.9.0"
  }
 },
 "nbformat": 4,
 "nbformat_minor": 4
}
